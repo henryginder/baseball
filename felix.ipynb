{
 "cells": [
  {
   "cell_type": "code",
   "execution_count": 195,
   "metadata": {},
   "outputs": [],
   "source": [
    "stats = pybaseball.pitching_stats(2015)"
   ]
  },
  {
   "cell_type": "code",
   "execution_count": 222,
   "metadata": {},
   "outputs": [],
   "source": [
    "import pybaseball\n",
    "import matplotlib.pyplot as plt\n",
    "%matplotlib inline\n",
    "import numpy as np\n",
    "import pandas as pd\n",
    "import seaborn as sns"
   ]
  },
  {
   "cell_type": "code",
   "execution_count": 249,
   "metadata": {},
   "outputs": [],
   "source": [
    "jake = stats['Name'] == 'Jake Arrieta'\n",
    "avg=stats[jake]"
   ]
  },
  {
   "cell_type": "code",
   "execution_count": 172,
   "metadata": {},
   "outputs": [],
   "source": [
    "def rate_my_pp(pitcher):\n",
    "    score = 0\n",
    "    score += pitcher['K/9']\n",
    "    score /= pitcher['H/9']\n",
    "    score /= pitcher['HR/9']\n",
    "    score /= pitcher['BB/9']\n",
    "    return score"
   ]
  },
  {
   "cell_type": "code",
   "execution_count": 255,
   "metadata": {},
   "outputs": [
    {
     "data": {
      "text/plain": [
       "2.133877840092529"
      ]
     },
     "execution_count": 255,
     "metadata": {},
     "output_type": "execute_result"
    }
   ],
   "source": [
    "float(rate_my_pp(avg))"
   ]
  },
  {
   "cell_type": "code",
   "execution_count": 216,
   "metadata": {},
   "outputs": [
    {
     "data": {
      "text/plain": [
       "0.3977288190614431"
      ]
     },
     "execution_count": 216,
     "metadata": {},
     "output_type": "execute_result"
    }
   ],
   "source": [
    "felix = stats['Name'] == 'Felix Hernandez'\n",
    "avg = stats[felix].mean(axis=0)\n",
    "pp_score(avg)"
   ]
  },
  {
   "cell_type": "code",
   "execution_count": 215,
   "metadata": {},
   "outputs": [
    {
     "data": {
      "text/plain": [
       "0.8003115492774305"
      ]
     },
     "execution_count": 215,
     "metadata": {},
     "output_type": "execute_result"
    }
   ],
   "source": [
    "kluber = stats['Name'] == 'Corey Kluber'\n",
    "avg = stats[kluber].mean(axis=0)\n",
    "pp_score(avg)"
   ]
  },
  {
   "cell_type": "code",
   "execution_count": 175,
   "metadata": {},
   "outputs": [
    {
     "data": {
      "text/plain": [
       "nan"
      ]
     },
     "execution_count": 175,
     "metadata": {},
     "output_type": "execute_result"
    }
   ],
   "source": [
    " Compare Felix's prime to the other great pitchers in the league at the\n",
    "    time. Uses rate_my_pp to score the pitchers individually. Prints out the\n",
    "    pitchers and their scores.\n",
    "\n",
    "    In 2014 Felix Hernandez got 2nd place in the AL Cy Young award.\n",
    "    He finished behind Corey Kluber. Using a new statistic, rate_my_pp,\n",
    "    demonstrates how Felix desrved the award.\"\"\""
   ]
  },
  {
   "cell_type": "code",
   "execution_count": 293,
   "metadata": {},
   "outputs": [],
   "source": [
    "def felix_analysis_prime(stats):\n",
    "    \"\"\"\n",
    "    Compare Felix's prime to the other great pitchers in the league at the\n",
    "    time. Uses rate_my_pp to score the pitchers individually. Creates a bar chart of all\n",
    "    the pitchers named below, comparing their pp scores.\n",
    "    \n",
    "    In 2014 Felix Hernandez got 2nd place in the AL Cy Young award.\n",
    "    He finished behind Corey Kluber. Using a new statistic, rate_my_pp,\n",
    "    we will demonstrate how Felix did or did not deserve the award.\"\"\"\n",
    "    \n",
    "    felix = stats['Name'] == 'Felix Hernandez'\n",
    "    avg1 = stats[felix]\n",
    "    score1 = rate_my_pp(avg1)\n",
    "    \n",
    "    scherzer = stats['Name'] == 'Max Scherzer'\n",
    "    avg2 = stats[scherzer]\n",
    "    score2 = rate_my_pp(avg2)\n",
    "    \n",
    "    verlander = stats['Name'] == 'Justin Verlander'\n",
    "    avg3 = stats[verlander]\n",
    "    score3 = rate_my_pp(avg3)\n",
    "    \n",
    "    price = stats['Name'] == 'David Price'\n",
    "    avg4 = stats[price]\n",
    "    score4 = rate_my_pp(avg4)\n",
    "    \n",
    "    kershaw = stats['Name'] == 'Clayton Kershaw'\n",
    "    avg5 = stats[kershaw]\n",
    "    score5 = rate_my_pp(avg5)\n",
    "    \n",
    "    greinke = stats['Name'] == 'Zack Greinke'\n",
    "    avg6 = stats[greinke]\n",
    "    score6 = rate_my_pp(avg6)\n",
    "    \n",
    "    roy = stats['Name'] == 'Roy Halladay'\n",
    "    avg7 = stats[roy]\n",
    "    score7 = rate_my_pp(avg7)\n",
    "    \n",
    "    f = plt.figure()\n",
    "    f.set_figwidth(11)\n",
    "    f.set_figheight(9)\n",
    "    \n",
    "    \n",
    "    plt.bar([1, 2, 3, 4, 5, 6, 7], [score1.mean(), score2.mean(), score3.mean(), score4.mean(), score5.mean(), score6.mean(), score7.mean()],\n",
    "            tick_label=['Felix', 'Scherzer', 'Verlander', 'Price', 'Kershaw', 'Greinke', 'Halladay'])\n",
    "    plt.title('PP score for Felix and contemporary SP, 2009 - 2014')\n",
    "    plt.xlabel('Other great Pitchers')\n",
    "    plt.ylabel('Rate_my_pp score')\n",
    "    \n",
    "    plt.show()"
   ]
  },
  {
   "cell_type": "code",
   "execution_count": 294,
   "metadata": {},
   "outputs": [
    {
     "data": {
      "image/png": "[encoded data removed]",
      "text/plain": [
       "<Figure size 792x648 with 1 Axes>"
      ]
     },
     "metadata": {
      "needs_background": "light"
     },
     "output_type": "display_data"
    }
   ],
   "source": [
    "felix_analysis_prime(stats_prime)"
   ]
  },
  {
   "cell_type": "code",
   "execution_count": 295,
   "metadata": {},
   "outputs": [
    {
     "name": "stdout",
     "output_type": "stream",
     "text": [
      "Felix deserved the Cy Young!\n",
      "Felix: 1.3675658484401654, Kluber: 1.256271418235018\n"
     ]
    }
   ],
   "source": [
    "stats2014 = pybaseball.pitching_stats(2014)\n",
    "felix_vs_kluber(stats2014)"
   ]
  },
  {
   "cell_type": "code",
   "execution_count": 283,
   "metadata": {},
   "outputs": [],
   "source": [
    "def felix_vs_kluber(stats):\n",
    "    \"\"\"In 2014 Felix Hernandez got 2nd place in the Cy Young award (best \n",
    "    pitcher in his league), while Corey Kluber won. Using just 2014 stats,\n",
    "    we will show who deserved the hotly debated award.\"\"\"\n",
    "    \n",
    "    klubot = stats['Name'] == 'Corey Kluber'\n",
    "    kluber = stats[klubot]\n",
    "    \n",
    "    felix = stats['Name'] == 'Felix Hernandez'\n",
    "    fh = stats[felix]\n",
    "    \n",
    "    kpp = rate_my_pp(kluber)\n",
    "    fpp = rate_my_pp(fh)\n",
    "    \n",
    "    if float(fpp) > float(kpp):\n",
    "        print('Felix deserved the Cy Young!')\n",
    "    else:\n",
    "        print('Kluber deserved the Cy Young :/')\n",
    "    print('Felix: {}, Kluber: {}'.format(float(fpp), float(kpp)))"
   ]
  },
  {
   "cell_type": "code",
   "execution_count": 265,
   "metadata": {},
   "outputs": [],
   "source": [
    "names = ['Felix Hernandez', 'Max Scherzer', 'Justin Verlander', 'David Price', 'Clayton Kershaw', 'Zack Greinke', 'Roy Halladay']\n",
    "\n",
    "def plot_pp(names, stats):\n",
    "    for i in names:\n",
    "        mask = stats['Name'] == i\n",
    "        score = rate_my_pp(stats[mask])\n",
    "        print(score)\n",
    "        plt.bar(stats[mask]['Season'], score)    "
   ]
  },
  {
   "cell_type": "code",
   "execution_count": 246,
   "metadata": {},
   "outputs": [
    {
     "data": {
      "text/plain": [
       "<BarContainer object of 3 artists>"
      ]
     },
     "execution_count": 246,
     "metadata": {},
     "output_type": "execute_result"
    },
    {
     "data": {
      "image/png": "[encoded data removed]",
      "text/plain": [
       "<Figure size 432x288 with 1 Axes>"
      ]
     },
     "metadata": {
      "needs_background": "light"
     },
     "output_type": "display_data"
    }
   ],
   "source": [
    "s = 0.71\n",
    "plt.bar([1, 2, 3], [s, 6, 9])"
   ]
  },
  {
   "cell_type": "code",
   "execution_count": 202,
   "metadata": {},
   "outputs": [],
   "source": [
    "def felix_analysis_career(stats):\n",
    "    felix = stats['Name'] == 'Felix Hernandez'\n",
    "    #\n",
    "    king = stats[felix]\n",
    "    print(king)\n",
    "    #plt.scatter(king['Season'], king['ERA'])"
   ]
  },
  {
   "cell_type": "code",
   "execution_count": 150,
   "metadata": {},
   "outputs": [
    {
     "name": "stdout",
     "output_type": "stream",
     "text": [
      "     IDfg  Season             Name Team  Age   W  L  WAR   ERA   G  ...   LA  \\\n",
      "7    4772    2014  Felix Hernandez  SEA   28  15  6  5.6  2.14  34  ...  NaN   \n",
      "161  4772    2015  Felix Hernandez  SEA   29  18  9  2.7  3.53  31  ...  5.5   \n",
      "\n",
      "     Barrels  Barrel%  maxEV  HardHit  HardHit%  Events  CStr%   CSW%  xERA  \n",
      "7          0      NaN    NaN        0       NaN       0  0.198  0.318   NaN  \n",
      "161       21    0.037  114.5      195     0.343     568  0.184  0.290   NaN  \n",
      "\n",
      "[2 rows x 334 columns]\n"
     ]
    }
   ],
   "source": [
    "felix_analysis_career(stats_prime)"
   ]
  }
 ],
 "metadata": {
  "kernelspec": {
   "display_name": "Python 3",
   "language": "python",
   "name": "python3"
  },
  "language_info": {
   "codemirror_mode": {
    "name": "ipython",
    "version": 3
   },
   "file_extension": ".py",
   "mimetype": "text/x-python",
   "name": "python",
   "nbconvert_exporter": "python",
   "pygments_lexer": "ipython3",
   "version": "3.8.5"
  }
 },
 "nbformat": 4,
 "nbformat_minor": 4
}
